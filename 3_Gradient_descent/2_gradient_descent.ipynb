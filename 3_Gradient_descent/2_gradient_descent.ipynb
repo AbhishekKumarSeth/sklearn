{
 "cells": [
  {
   "cell_type": "code",
   "execution_count": 13,
   "id": "81cda458-73a0-4dfe-ac57-d0b8c0cb5b60",
   "metadata": {},
   "outputs": [],
   "source": [
    "import pandas as pd\n",
    "import numpy as np\n",
    "import matplotlib.pyplot as plt\n",
    "from sklearn import linear_model"
   ]
  },
  {
   "cell_type": "code",
   "execution_count": 17,
   "id": "0a37a87e-dd25-4d09-8fac-2a07f77a58ea",
   "metadata": {},
   "outputs": [
    {
     "name": "stdout",
     "output_type": "stream",
     "text": [
      "     name  math  cs\n",
      "0   david    92  98\n",
      "1   laura    56  68\n",
      "2  sanjay    88  81\n",
      "3     wei    70  80\n",
      "4    jeff    80  83\n",
      "5   aamir    49  52\n",
      "6  venkat    65  66\n",
      "7   virat    35  30\n",
      "8  arthur    66  68\n",
      "9    paul    67  73\n"
     ]
    },
    {
     "data": {
      "text/plain": [
       "(array([1.01773624]), 1.9152193111568891)"
      ]
     },
     "execution_count": 17,
     "metadata": {},
     "output_type": "execute_result"
    }
   ],
   "source": [
    "def predict_model_scikitlearn():\n",
    "    df = pd.read_csv('test_scores.csv')\n",
    "    print(df)\n",
    "    r = linear_model.LinearRegression()\n",
    "    r.fit(df[['math']], df.cs)\n",
    "    return r.coef_, r.intercept_\n",
    "\n",
    "\n",
    "predict_model_scikitlearn()"
   ]
  },
  {
   "cell_type": "code",
   "execution_count": null,
   "id": "697711cb-a151-431c-beec-0765e1733cca",
   "metadata": {},
   "outputs": [],
   "source": []
  },
  {
   "cell_type": "code",
   "execution_count": null,
   "id": "9f15bccb-ccfd-4f92-b625-50ec530e9609",
   "metadata": {},
   "outputs": [],
   "source": []
  }
 ],
 "metadata": {
  "kernelspec": {
   "display_name": "Python 3",
   "language": "python",
   "name": "python3"
  },
  "language_info": {
   "codemirror_mode": {
    "name": "ipython",
    "version": 3
   },
   "file_extension": ".py",
   "mimetype": "text/x-python",
   "name": "python",
   "nbconvert_exporter": "python",
   "pygments_lexer": "ipython3",
   "version": "3.9.5"
  }
 },
 "nbformat": 4,
 "nbformat_minor": 5
}
